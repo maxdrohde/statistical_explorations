{
 "cells": [
  {
   "cell_type": "code",
   "execution_count": 195,
   "metadata": {},
   "outputs": [],
   "source": [
    "import numpy as np\n",
    "import altair as alt\n",
    "import pandas as pd\n",
    "from scipy.stats import norm\n",
    "import scipy.stats as stats\n",
    "from math import sqrt\n",
    "from tqdm import tqdm"
   ]
  },
  {
   "cell_type": "code",
   "execution_count": 196,
   "metadata": {},
   "outputs": [],
   "source": [
    "# Computes a CI based on data (assumed to be normally distributed)\n",
    "def mean_confidence_interval(data, confidence=0.5):\n",
    "    a = 1.0 * np.array(data)\n",
    "    n = len(a)\n",
    "    m, se = np.mean(a), stats.sem(a)\n",
    "    h = se * stats.t.ppf((1 + confidence) / 2., n-1)\n",
    "    return m, m-h, m+h"
   ]
  },
  {
   "cell_type": "code",
   "execution_count": 197,
   "metadata": {},
   "outputs": [],
   "source": [
    "# Create rv ~ N(5,1)\n",
    "rv = norm(loc=5, scale=1)"
   ]
  },
  {
   "cell_type": "code",
   "execution_count": 198,
   "metadata": {},
   "outputs": [
    {
     "name": "stderr",
     "output_type": "stream",
     "text": [
      "100%|██████████| 100/100 [00:00<00:00, 452.25it/s]\n"
     ]
    }
   ],
   "source": [
    "l = []\n",
    "for x in tqdm(range(100)):\n",
    "    \n",
    "    size = 20\n",
    "\n",
    "    vals = rv.rvs(size=size)\n",
    "    df = pd.DataFrame()\n",
    "    df['vals'] = vals\n",
    "\n",
    "    median = df['vals'].median()\n",
    "    sample_mean = df['vals'].mean()\n",
    "    std = df['vals'].std()\n",
    "   \n",
    "    #r = stats.bayes_mvs(df['vals'].values, alpha=0.5)[0].minmax\n",
    "    r = mean_confidence_interval(df['vals'].values, confidence=0.5)[1:]\n",
    "    if (5 > r[0]) and (5<r[1]):\n",
    "        l.append([sample_mean, r[0], r[1], True])\n",
    "    else:\n",
    "        l.append([sample_mean, r[0], r[1], False])\n",
    "    "
   ]
  },
  {
   "cell_type": "code",
   "execution_count": 199,
   "metadata": {},
   "outputs": [
    {
     "data": {
      "text/html": [
       "<div>\n",
       "<style scoped>\n",
       "    .dataframe tbody tr th:only-of-type {\n",
       "        vertical-align: middle;\n",
       "    }\n",
       "\n",
       "    .dataframe tbody tr th {\n",
       "        vertical-align: top;\n",
       "    }\n",
       "\n",
       "    .dataframe thead th {\n",
       "        text-align: right;\n",
       "    }\n",
       "</style>\n",
       "<table border=\"1\" class=\"dataframe\">\n",
       "  <thead>\n",
       "    <tr style=\"text-align: right;\">\n",
       "      <th></th>\n",
       "      <th>mu</th>\n",
       "      <th>c0</th>\n",
       "      <th>c1</th>\n",
       "      <th>in</th>\n",
       "      <th>point</th>\n",
       "      <th>rule</th>\n",
       "    </tr>\n",
       "  </thead>\n",
       "  <tbody>\n",
       "    <tr>\n",
       "      <th>0</th>\n",
       "      <td>4.920718</td>\n",
       "      <td>4.762187</td>\n",
       "      <td>5.079248</td>\n",
       "      <td>True</td>\n",
       "      <td>0</td>\n",
       "      <td>5</td>\n",
       "    </tr>\n",
       "    <tr>\n",
       "      <th>1</th>\n",
       "      <td>5.418789</td>\n",
       "      <td>5.285417</td>\n",
       "      <td>5.552161</td>\n",
       "      <td>False</td>\n",
       "      <td>1</td>\n",
       "      <td>5</td>\n",
       "    </tr>\n",
       "    <tr>\n",
       "      <th>2</th>\n",
       "      <td>4.683628</td>\n",
       "      <td>4.511100</td>\n",
       "      <td>4.856156</td>\n",
       "      <td>False</td>\n",
       "      <td>2</td>\n",
       "      <td>5</td>\n",
       "    </tr>\n",
       "    <tr>\n",
       "      <th>3</th>\n",
       "      <td>5.352557</td>\n",
       "      <td>5.192379</td>\n",
       "      <td>5.512734</td>\n",
       "      <td>False</td>\n",
       "      <td>3</td>\n",
       "      <td>5</td>\n",
       "    </tr>\n",
       "    <tr>\n",
       "      <th>4</th>\n",
       "      <td>5.075681</td>\n",
       "      <td>4.913246</td>\n",
       "      <td>5.238115</td>\n",
       "      <td>True</td>\n",
       "      <td>4</td>\n",
       "      <td>5</td>\n",
       "    </tr>\n",
       "  </tbody>\n",
       "</table>\n",
       "</div>"
      ],
      "text/plain": [
       "         mu        c0        c1     in  point  rule\n",
       "0  4.920718  4.762187  5.079248   True      0     5\n",
       "1  5.418789  5.285417  5.552161  False      1     5\n",
       "2  4.683628  4.511100  4.856156  False      2     5\n",
       "3  5.352557  5.192379  5.512734  False      3     5\n",
       "4  5.075681  4.913246  5.238115   True      4     5"
      ]
     },
     "execution_count": 199,
     "metadata": {},
     "output_type": "execute_result"
    }
   ],
   "source": [
    "df = pd.DataFrame(l, columns = ['mu', 'c0', 'c1', 'in'])\n",
    "df['point'] = df.index\n",
    "df['rule'] = 5\n",
    "df.head()"
   ]
  },
  {
   "cell_type": "code",
   "execution_count": 200,
   "metadata": {},
   "outputs": [
    {
     "data": {
      "application/vnd.vegalite.v3+json": {
       "$schema": "https://vega.github.io/schema/vega-lite/v3.4.0.json",
       "config": {
        "mark": {
         "tooltip": null
        },
        "view": {
         "height": 300,
         "width": 400
        }
       },
       "data": {
        "name": "data-ffd6818ce44db904ea191a103e434950"
       },
       "datasets": {
        "data-ffd6818ce44db904ea191a103e434950": [
         {
          "c0": 4.76218688441128,
          "c1": 5.0792481521414405,
          "in": true,
          "mu": 4.92071751827636,
          "point": 0,
          "rule": 5
         },
         {
          "c0": 5.285416560002448,
          "c1": 5.552160740946251,
          "in": false,
          "mu": 5.418788650474349,
          "point": 1,
          "rule": 5
         },
         {
          "c0": 4.511099819067851,
          "c1": 4.856155593246474,
          "in": false,
          "mu": 4.6836277061571625,
          "point": 2,
          "rule": 5
         },
         {
          "c0": 5.192379452741864,
          "c1": 5.512734124847979,
          "in": false,
          "mu": 5.352556788794922,
          "point": 3,
          "rule": 5
         },
         {
          "c0": 4.913246337970472,
          "c1": 5.2381150022898435,
          "in": true,
          "mu": 5.075680670130158,
          "point": 4,
          "rule": 5
         },
         {
          "c0": 4.825523969865923,
          "c1": 5.165378188062235,
          "in": true,
          "mu": 4.995451078964079,
          "point": 5,
          "rule": 5
         },
         {
          "c0": 4.783917267911823,
          "c1": 5.063418987399704,
          "in": true,
          "mu": 4.9236681276557634,
          "point": 6,
          "rule": 5
         },
         {
          "c0": 5.136843565738091,
          "c1": 5.393382996607195,
          "in": false,
          "mu": 5.265113281172643,
          "point": 7,
          "rule": 5
         },
         {
          "c0": 5.175579688340223,
          "c1": 5.463800579181397,
          "in": false,
          "mu": 5.31969013376081,
          "point": 8,
          "rule": 5
         },
         {
          "c0": 4.7554988939202065,
          "c1": 4.98780985469285,
          "in": false,
          "mu": 4.871654374306528,
          "point": 9,
          "rule": 5
         },
         {
          "c0": 5.119766781051179,
          "c1": 5.3830168170800645,
          "in": false,
          "mu": 5.251391799065622,
          "point": 10,
          "rule": 5
         },
         {
          "c0": 4.51100737860736,
          "c1": 4.839152769102018,
          "in": false,
          "mu": 4.675080073854689,
          "point": 11,
          "rule": 5
         },
         {
          "c0": 4.480604270391069,
          "c1": 4.865123407037688,
          "in": false,
          "mu": 4.672863838714378,
          "point": 12,
          "rule": 5
         },
         {
          "c0": 5.134585197475244,
          "c1": 5.44884872251633,
          "in": false,
          "mu": 5.291716959995787,
          "point": 13,
          "rule": 5
         },
         {
          "c0": 4.840461382913795,
          "c1": 5.138969839526559,
          "in": true,
          "mu": 4.989715611220177,
          "point": 14,
          "rule": 5
         },
         {
          "c0": 4.8319554212073035,
          "c1": 5.203515113746987,
          "in": true,
          "mu": 5.017735267477145,
          "point": 15,
          "rule": 5
         },
         {
          "c0": 4.776218263860306,
          "c1": 5.118126228814786,
          "in": true,
          "mu": 4.947172246337546,
          "point": 16,
          "rule": 5
         },
         {
          "c0": 4.523388637770333,
          "c1": 4.840007735311124,
          "in": false,
          "mu": 4.681698186540729,
          "point": 17,
          "rule": 5
         },
         {
          "c0": 4.728277072249538,
          "c1": 5.104860592453226,
          "in": true,
          "mu": 4.916568832351382,
          "point": 18,
          "rule": 5
         },
         {
          "c0": 4.5705627726297715,
          "c1": 4.85321382640213,
          "in": false,
          "mu": 4.711888299515951,
          "point": 19,
          "rule": 5
         },
         {
          "c0": 4.920895810709281,
          "c1": 5.272090606969883,
          "in": true,
          "mu": 5.096493208839582,
          "point": 20,
          "rule": 5
         },
         {
          "c0": 4.797548868370667,
          "c1": 5.099592720964685,
          "in": true,
          "mu": 4.948570794667676,
          "point": 21,
          "rule": 5
         },
         {
          "c0": 5.0967450960154235,
          "c1": 5.365908285858778,
          "in": false,
          "mu": 5.231326690937101,
          "point": 22,
          "rule": 5
         },
         {
          "c0": 4.789253932013187,
          "c1": 5.14682202023581,
          "in": true,
          "mu": 4.968037976124498,
          "point": 23,
          "rule": 5
         },
         {
          "c0": 5.3101179268944545,
          "c1": 5.545198110961975,
          "in": false,
          "mu": 5.427658018928215,
          "point": 24,
          "rule": 5
         },
         {
          "c0": 4.431610789832899,
          "c1": 4.642166481094566,
          "in": false,
          "mu": 4.5368886354637326,
          "point": 25,
          "rule": 5
         },
         {
          "c0": 5.080293593683371,
          "c1": 5.410167512202809,
          "in": false,
          "mu": 5.24523055294309,
          "point": 26,
          "rule": 5
         },
         {
          "c0": 4.640789292807569,
          "c1": 4.966195167313727,
          "in": false,
          "mu": 4.803492230060648,
          "point": 27,
          "rule": 5
         },
         {
          "c0": 5.085582502096727,
          "c1": 5.274751810783117,
          "in": false,
          "mu": 5.180167156439922,
          "point": 28,
          "rule": 5
         },
         {
          "c0": 4.668605977443934,
          "c1": 5.021801085964058,
          "in": true,
          "mu": 4.845203531703996,
          "point": 29,
          "rule": 5
         },
         {
          "c0": 4.852115907797989,
          "c1": 5.1771595900385865,
          "in": true,
          "mu": 5.014637748918288,
          "point": 30,
          "rule": 5
         },
         {
          "c0": 5.07070853501158,
          "c1": 5.361782442449554,
          "in": false,
          "mu": 5.216245488730567,
          "point": 31,
          "rule": 5
         },
         {
          "c0": 4.989017332471172,
          "c1": 5.380112978401892,
          "in": true,
          "mu": 5.184565155436532,
          "point": 32,
          "rule": 5
         },
         {
          "c0": 5.188675793635922,
          "c1": 5.416282402746503,
          "in": false,
          "mu": 5.302479098191212,
          "point": 33,
          "rule": 5
         },
         {
          "c0": 5.007872960918073,
          "c1": 5.375249855213271,
          "in": false,
          "mu": 5.191561408065672,
          "point": 34,
          "rule": 5
         },
         {
          "c0": 5.173966140847389,
          "c1": 5.474527641066375,
          "in": false,
          "mu": 5.324246890956882,
          "point": 35,
          "rule": 5
         },
         {
          "c0": 4.977418409498584,
          "c1": 5.241019937682032,
          "in": true,
          "mu": 5.109219173590308,
          "point": 36,
          "rule": 5
         },
         {
          "c0": 5.136051557692706,
          "c1": 5.408046794005763,
          "in": false,
          "mu": 5.272049175849235,
          "point": 37,
          "rule": 5
         },
         {
          "c0": 4.914403764077944,
          "c1": 5.1646704602471605,
          "in": true,
          "mu": 5.039537112162552,
          "point": 38,
          "rule": 5
         },
         {
          "c0": 4.654925592246537,
          "c1": 4.967063611103287,
          "in": false,
          "mu": 4.810994601674912,
          "point": 39,
          "rule": 5
         },
         {
          "c0": 5.008156283022623,
          "c1": 5.345725399590264,
          "in": false,
          "mu": 5.176940841306443,
          "point": 40,
          "rule": 5
         },
         {
          "c0": 4.551566019825445,
          "c1": 4.824835075632593,
          "in": false,
          "mu": 4.688200547729019,
          "point": 41,
          "rule": 5
         },
         {
          "c0": 5.050452906963632,
          "c1": 5.267106197561495,
          "in": false,
          "mu": 5.158779552262564,
          "point": 42,
          "rule": 5
         },
         {
          "c0": 5.030628804175837,
          "c1": 5.367872903709534,
          "in": false,
          "mu": 5.199250853942686,
          "point": 43,
          "rule": 5
         },
         {
          "c0": 5.093508338843068,
          "c1": 5.427475887545463,
          "in": false,
          "mu": 5.260492113194266,
          "point": 44,
          "rule": 5
         },
         {
          "c0": 4.7093104585332055,
          "c1": 5.038303779503129,
          "in": true,
          "mu": 4.873807119018167,
          "point": 45,
          "rule": 5
         },
         {
          "c0": 4.9710193899424455,
          "c1": 5.20862299325553,
          "in": true,
          "mu": 5.089821191598988,
          "point": 46,
          "rule": 5
         },
         {
          "c0": 4.991637082124032,
          "c1": 5.3310457523756964,
          "in": true,
          "mu": 5.161341417249864,
          "point": 47,
          "rule": 5
         },
         {
          "c0": 4.626467494440295,
          "c1": 4.9346657928485556,
          "in": false,
          "mu": 4.780566643644425,
          "point": 48,
          "rule": 5
         },
         {
          "c0": 5.237709041229833,
          "c1": 5.514149085261739,
          "in": false,
          "mu": 5.375929063245786,
          "point": 49,
          "rule": 5
         },
         {
          "c0": 4.660361318556669,
          "c1": 4.983007824277198,
          "in": false,
          "mu": 4.821684571416934,
          "point": 50,
          "rule": 5
         },
         {
          "c0": 4.919217475236156,
          "c1": 5.20997086546406,
          "in": true,
          "mu": 5.064594170350108,
          "point": 51,
          "rule": 5
         },
         {
          "c0": 4.950082624889758,
          "c1": 5.285879293177322,
          "in": true,
          "mu": 5.11798095903354,
          "point": 52,
          "rule": 5
         },
         {
          "c0": 4.8208332270875225,
          "c1": 5.15793944930833,
          "in": true,
          "mu": 4.989386338197926,
          "point": 53,
          "rule": 5
         },
         {
          "c0": 4.786006465809573,
          "c1": 5.135080057880947,
          "in": true,
          "mu": 4.96054326184526,
          "point": 54,
          "rule": 5
         },
         {
          "c0": 4.687664122040303,
          "c1": 4.9835847334068895,
          "in": false,
          "mu": 4.835624427723596,
          "point": 55,
          "rule": 5
         },
         {
          "c0": 4.660757190384798,
          "c1": 4.923868786366517,
          "in": false,
          "mu": 4.792312988375658,
          "point": 56,
          "rule": 5
         },
         {
          "c0": 4.605210162705526,
          "c1": 4.909424599294421,
          "in": false,
          "mu": 4.757317380999973,
          "point": 57,
          "rule": 5
         },
         {
          "c0": 4.831911140927312,
          "c1": 5.210676544807532,
          "in": true,
          "mu": 5.021293842867422,
          "point": 58,
          "rule": 5
         },
         {
          "c0": 5.069150630108642,
          "c1": 5.3696007771850125,
          "in": false,
          "mu": 5.219375703646827,
          "point": 59,
          "rule": 5
         },
         {
          "c0": 4.854773786320341,
          "c1": 5.14684991975911,
          "in": true,
          "mu": 5.000811853039726,
          "point": 60,
          "rule": 5
         },
         {
          "c0": 4.988203247185618,
          "c1": 5.318120206602407,
          "in": true,
          "mu": 5.153161726894012,
          "point": 61,
          "rule": 5
         },
         {
          "c0": 4.901391722805394,
          "c1": 5.217457885567591,
          "in": true,
          "mu": 5.059424804186492,
          "point": 62,
          "rule": 5
         },
         {
          "c0": 4.877482816611195,
          "c1": 5.093154814338831,
          "in": true,
          "mu": 4.985318815475013,
          "point": 63,
          "rule": 5
         },
         {
          "c0": 4.911906526128102,
          "c1": 5.195861908179638,
          "in": true,
          "mu": 5.05388421715387,
          "point": 64,
          "rule": 5
         },
         {
          "c0": 4.813879643250811,
          "c1": 5.031467884160719,
          "in": true,
          "mu": 4.922673763705765,
          "point": 65,
          "rule": 5
         },
         {
          "c0": 4.834619533758792,
          "c1": 5.14304666898024,
          "in": true,
          "mu": 4.988833101369516,
          "point": 66,
          "rule": 5
         },
         {
          "c0": 4.699080949072562,
          "c1": 5.045087705725925,
          "in": true,
          "mu": 4.872084327399244,
          "point": 67,
          "rule": 5
         },
         {
          "c0": 4.505182580062073,
          "c1": 4.815494744779755,
          "in": false,
          "mu": 4.660338662420914,
          "point": 68,
          "rule": 5
         },
         {
          "c0": 5.00311410437092,
          "c1": 5.259405320270132,
          "in": false,
          "mu": 5.131259712320526,
          "point": 69,
          "rule": 5
         },
         {
          "c0": 5.017080726866657,
          "c1": 5.2245407080765665,
          "in": false,
          "mu": 5.1208107174716115,
          "point": 70,
          "rule": 5
         },
         {
          "c0": 4.737134247047073,
          "c1": 5.083585685095875,
          "in": true,
          "mu": 4.910359966071474,
          "point": 71,
          "rule": 5
         },
         {
          "c0": 4.67349577443598,
          "c1": 5.068522793127074,
          "in": true,
          "mu": 4.871009283781527,
          "point": 72,
          "rule": 5
         },
         {
          "c0": 4.6684373108952215,
          "c1": 5.0229741360173,
          "in": true,
          "mu": 4.845705723456261,
          "point": 73,
          "rule": 5
         },
         {
          "c0": 4.720136379982101,
          "c1": 5.006024468849528,
          "in": true,
          "mu": 4.863080424415815,
          "point": 74,
          "rule": 5
         },
         {
          "c0": 4.544896867635242,
          "c1": 4.850699585483114,
          "in": false,
          "mu": 4.697798226559178,
          "point": 75,
          "rule": 5
         },
         {
          "c0": 4.615766299779605,
          "c1": 4.951380430987537,
          "in": false,
          "mu": 4.783573365383571,
          "point": 76,
          "rule": 5
         },
         {
          "c0": 4.802183140445209,
          "c1": 5.075704433666056,
          "in": true,
          "mu": 4.938943787055632,
          "point": 77,
          "rule": 5
         },
         {
          "c0": 4.858669281592221,
          "c1": 5.085489207223368,
          "in": true,
          "mu": 4.972079244407794,
          "point": 78,
          "rule": 5
         },
         {
          "c0": 4.883599343676931,
          "c1": 5.167616195417969,
          "in": true,
          "mu": 5.02560776954745,
          "point": 79,
          "rule": 5
         },
         {
          "c0": 4.808298094134939,
          "c1": 5.067533820779083,
          "in": true,
          "mu": 4.937915957457011,
          "point": 80,
          "rule": 5
         },
         {
          "c0": 4.798641059699684,
          "c1": 5.18947331213749,
          "in": true,
          "mu": 4.994057185918587,
          "point": 81,
          "rule": 5
         },
         {
          "c0": 5.14136365026713,
          "c1": 5.445457147961121,
          "in": false,
          "mu": 5.2934103991141255,
          "point": 82,
          "rule": 5
         },
         {
          "c0": 4.644123237664369,
          "c1": 4.87300742812784,
          "in": false,
          "mu": 4.758565332896104,
          "point": 83,
          "rule": 5
         },
         {
          "c0": 4.7002526260671615,
          "c1": 5.031476100741903,
          "in": true,
          "mu": 4.865864363404532,
          "point": 84,
          "rule": 5
         },
         {
          "c0": 4.831607263070985,
          "c1": 5.164061006412366,
          "in": true,
          "mu": 4.997834134741676,
          "point": 85,
          "rule": 5
         },
         {
          "c0": 4.877138782511837,
          "c1": 5.155251968308324,
          "in": true,
          "mu": 5.0161953754100805,
          "point": 86,
          "rule": 5
         },
         {
          "c0": 4.782278965514114,
          "c1": 5.014948967132066,
          "in": true,
          "mu": 4.89861396632309,
          "point": 87,
          "rule": 5
         },
         {
          "c0": 4.830817374136854,
          "c1": 5.214979841756082,
          "in": true,
          "mu": 5.022898607946468,
          "point": 88,
          "rule": 5
         },
         {
          "c0": 4.8424056210804105,
          "c1": 5.11872191415867,
          "in": true,
          "mu": 4.9805637676195404,
          "point": 89,
          "rule": 5
         },
         {
          "c0": 4.601786287494476,
          "c1": 4.9250696153144835,
          "in": false,
          "mu": 4.76342795140448,
          "point": 90,
          "rule": 5
         },
         {
          "c0": 4.793038994949739,
          "c1": 5.101542283010928,
          "in": true,
          "mu": 4.947290638980333,
          "point": 91,
          "rule": 5
         },
         {
          "c0": 5.061425884002734,
          "c1": 5.310996756954038,
          "in": false,
          "mu": 5.186211320478386,
          "point": 92,
          "rule": 5
         },
         {
          "c0": 4.6027520822635655,
          "c1": 4.975225923397749,
          "in": false,
          "mu": 4.788989002830657,
          "point": 93,
          "rule": 5
         },
         {
          "c0": 5.197984654763161,
          "c1": 5.525182705665902,
          "in": false,
          "mu": 5.361583680214531,
          "point": 94,
          "rule": 5
         },
         {
          "c0": 4.9634944922986985,
          "c1": 5.302796419166592,
          "in": true,
          "mu": 5.133145455732645,
          "point": 95,
          "rule": 5
         },
         {
          "c0": 5.032536306213125,
          "c1": 5.349590937607428,
          "in": false,
          "mu": 5.191063621910277,
          "point": 96,
          "rule": 5
         },
         {
          "c0": 4.798090669280267,
          "c1": 5.043629459505322,
          "in": true,
          "mu": 4.920860064392794,
          "point": 97,
          "rule": 5
         },
         {
          "c0": 4.497439026775707,
          "c1": 4.815428563713665,
          "in": false,
          "mu": 4.656433795244686,
          "point": 98,
          "rule": 5
         },
         {
          "c0": 4.758057621493576,
          "c1": 5.030910482371599,
          "in": true,
          "mu": 4.894484051932587,
          "point": 99,
          "rule": 5
         }
        ]
       },
       "height": 500,
       "layer": [
        {
         "encoding": {
          "color": {
           "field": "in",
           "type": "nominal"
          },
          "x": {
           "field": "mu",
           "scale": {
            "domain": [
             4.9,
             5.1
            ]
           },
           "type": "quantitative"
          },
          "y": {
           "axis": null,
           "field": "point",
           "type": "ordinal"
          }
         },
         "mark": {
          "size": 20,
          "type": "circle"
         }
        },
        {
         "encoding": {
          "color": {
           "field": "in",
           "type": "nominal"
          },
          "x": {
           "field": "c0",
           "type": "quantitative"
          },
          "x2": {
           "field": "c1"
          },
          "y": {
           "axis": null,
           "field": "point",
           "type": "ordinal"
          }
         },
         "mark": {
          "size": 0.5,
          "type": "rule"
         }
        },
        {
         "encoding": {
          "x": {
           "field": "rule",
           "type": "quantitative"
          }
         },
         "mark": {
          "color": "red",
          "size": 3,
          "type": "rule"
         }
        }
       ],
       "title": "Sample size = 20",
       "width": 500
      },
      "image/png": "[encoded data removed]",
      "text/plain": [
       "<VegaLite 3 object>\n",
       "\n",
       "If you see this message, it means the renderer has not been properly enabled\n",
       "for the frontend that you are using. For more information, see\n",
       "https://altair-viz.github.io/user_guide/troubleshooting.html\n"
      ]
     },
     "execution_count": 200,
     "metadata": {},
     "output_type": "execute_result"
    }
   ],
   "source": [
    "points = alt.Chart(df).mark_circle(size=20).encode(\n",
    "    alt.X(\"mu:Q\", scale=alt.Scale(domain=[4.9, 5.1])),\n",
    "    alt.Y('point:O', axis=None),\n",
    "    alt.Color('in'))\n",
    "\n",
    "error_bars = points.mark_rule(size=0.5).encode(\n",
    "    x='c0',\n",
    "    x2='c1',\n",
    ")\n",
    "\n",
    "rule = alt.Chart(df).mark_rule(color='red', size=3).encode(\n",
    "    x='rule'\n",
    ")\n",
    "\n",
    "(points + error_bars + rule).properties(height=500, width=500, title=f'Sample size = {size}')"
   ]
  },
  {
   "cell_type": "code",
   "execution_count": 201,
   "metadata": {},
   "outputs": [
    {
     "data": {
      "text/plain": [
       "True     0.51\n",
       "False    0.49\n",
       "Name: in, dtype: float64"
      ]
     },
     "execution_count": 201,
     "metadata": {},
     "output_type": "execute_result"
    }
   ],
   "source": [
    "df['in'].value_counts(normalize=True)"
   ]
  },
  {
   "cell_type": "code",
   "execution_count": 202,
   "metadata": {},
   "outputs": [
    {
     "data": {
      "text/plain": [
       "28    0.189169\n",
       "70    0.207460\n",
       "25    0.210556\n",
       "63    0.215672\n",
       "42    0.216653\n",
       "        ...   \n",
       "88    0.384162\n",
       "12    0.384519\n",
       "81    0.390832\n",
       "32    0.391096\n",
       "72    0.395027\n",
       "Length: 100, dtype: float64"
      ]
     },
     "execution_count": 202,
     "metadata": {},
     "output_type": "execute_result"
    }
   ],
   "source": [
    "(df['c1']-df['c0']).sort_values()"
   ]
  },
  {
   "cell_type": "code",
   "execution_count": null,
   "metadata": {},
   "outputs": [],
   "source": []
  }
 ],
 "metadata": {
  "kernel_info": {
   "name": "python3"
  },
  "kernelspec": {
   "display_name": "Python 3",
   "language": "python",
   "name": "python3"
  },
  "language_info": {
   "codemirror_mode": {
    "name": "ipython",
    "version": 3
   },
   "file_extension": ".py",
   "mimetype": "text/x-python",
   "name": "python",
   "nbconvert_exporter": "python",
   "pygments_lexer": "ipython3",
   "version": "3.7.3"
  },
  "nteract": {
   "version": "0.15.0"
  }
 },
 "nbformat": 4,
 "nbformat_minor": 4
}
