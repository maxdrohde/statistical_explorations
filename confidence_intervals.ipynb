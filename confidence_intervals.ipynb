{
  "cells": [
    {
      "cell_type": "code",
      "source": [
        "import numpy as np\n",
        "import altair as alt\n",
        "import pandas as pd\n",
        "from scipy.stats import norm\n",
        "import scipy.stats as stats\n",
        "from math import sqrt\n",
        "from tqdm import tqdm"
      ],
      "outputs": [],
      "execution_count": 4,
      "metadata": {}
    },
    {
      "cell_type": "code",
      "source": [
        "rv = norm(loc=5, scale=1)"
      ],
      "outputs": [],
      "execution_count": null,
      "metadata": {}
    },
    {
      "cell_type": "code",
      "source": [
        "l = []\n",
        "for x in tqdm(range(100)):\n",
        "\n",
        "    vals = rv.rvs(size=4000)\n",
        "    df = pd.DataFrame()\n",
        "    df['vals'] = vals\n",
        "\n",
        "    median = df['vals'].median()\n",
        "    mu = df['vals'].mean()\n",
        "    std = df['vals'].std()\n",
        "   \n",
        "    r = stats.norm.interval(0.5, loc=mu, scale=std/sqrt(4000))\n",
        "    if (5 > r[0]) and (5<r[1]):\n",
        "        l.append([mu, r[0], r[1], True])\n",
        "    else:\n",
        "        l.append([mu, r[0], r[1], False])\n",
        "    "
      ],
      "outputs": [],
      "execution_count": null,
      "metadata": {}
    },
    {
      "cell_type": "code",
      "source": [
        "median = df['vals'].median()\n",
        "mu = df['vals'].mean()\n",
        "std = df['vals'].std()\n",
        "\n",
        "alt.Chart(df).mark_bar().encode(\n",
        "    alt.X(\"vals:Q\", bin=alt.Bin(extent=[median - 5*std, median + 5*std], step=0.1)),\n",
        "    alt.Y('count()'))"
      ],
      "outputs": [],
      "execution_count": null,
      "metadata": {}
    },
    {
      "cell_type": "code",
      "source": [
        "stats.norm.interval(0.5, loc=mu, scale=std/sqrt(4000))"
      ],
      "outputs": [],
      "execution_count": null,
      "metadata": {}
    },
    {
      "cell_type": "code",
      "source": [
        "pd.Series(l).value_counts(normalize=True)"
      ],
      "outputs": [],
      "execution_count": null,
      "metadata": {}
    },
    {
      "cell_type": "code",
      "source": [
        "df = pd.DataFrame(l, columns = ['mu', 'c0', 'c1', 'in'])\n",
        "df['point'] = df.index\n",
        "df['rule'] = 5\n",
        "df.head()"
      ],
      "outputs": [],
      "execution_count": null,
      "metadata": {}
    },
    {
      "cell_type": "code",
      "source": [
        "points = alt.Chart(df).mark_circle(size=20).encode(\n",
        "    alt.X(\"mu:Q\", scale=alt.Scale(domain=[4.9, 5.1])),\n",
        "    alt.Y('point:O'),\n",
        "    alt.Color('in'))\n",
        "\n",
        "error_bars = points.mark_rule(size=0.5).encode(\n",
        "    x='c0',\n",
        "    x2='c1',\n",
        ")\n",
        "\n",
        "rule = alt.Chart(df).mark_rule(color='red', size=3).encode(\n",
        "    x='rule'\n",
        ")\n",
        "\n",
        "(points + error_bars + rule).properties(height=300)"
      ],
      "outputs": [],
      "execution_count": null,
      "metadata": {}
    },
    {
      "cell_type": "code",
      "source": [
        "df['in'].value_counts()"
      ],
      "outputs": [],
      "execution_count": null,
      "metadata": {}
    },
    {
      "cell_type": "code",
      "source": [],
      "outputs": [],
      "execution_count": null,
      "metadata": {}
    }
  ],
  "metadata": {
    "kernelspec": {
      "name": "python3",
      "language": "python",
      "display_name": "Python 3"
    },
    "language_info": {
      "name": "python",
      "version": "3.7.3",
      "mimetype": "text/x-python",
      "codemirror_mode": {
        "name": "ipython",
        "version": 3
      },
      "pygments_lexer": "ipython3",
      "nbconvert_exporter": "python",
      "file_extension": ".py"
    },
    "kernel_info": {
      "name": "python3"
    },
    "nteract": {
      "version": "0.15.0"
    }
  },
  "nbformat": 4,
  "nbformat_minor": 4
}